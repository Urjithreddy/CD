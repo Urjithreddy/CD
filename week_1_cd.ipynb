{
  "nbformat": 4,
  "nbformat_minor": 0,
  "metadata": {
    "colab": {
      "provenance": []
    },
    "kernelspec": {
      "name": "python3",
      "display_name": "Python 3"
    },
    "language_info": {
      "name": "python"
    }
  },
  "cells": [
    {
      "cell_type": "markdown",
      "source": [
        " Write a program to print n prime nos"
      ],
      "metadata": {
        "id": "JSLkG3ffzpbo"
      }
    },
    {
      "cell_type": "code",
      "source": [
        "#include <stdio.h> \n",
        "#include <stdbool.h>\n",
        "\n",
        "// Function to check if a number is prime\n",
        "bool isPrime(int num) {\n",
        "    if (num <= 1) return false;\n",
        "    for (int i = 2; i * i <= num; i++) {\n",
        "        if (num % i == 0) return false;\n",
        "    }\n",
        "    return true;\n",
        "}\n",
        "\n",
        "int main() {\n",
        "    int n, count = 0;\n",
        "    printf(\"Enter the number of prime numbers to print: \");\n",
        "    scanf(\"%d\", &n);\n",
        "\n",
        "    // Initial number to check for primality\n",
        "    int num = 2;\n",
        "\n",
        "    // Print the first n prime numbers\n",
        "    while (count < n) {\n",
        "        if (isPrime(num)) {\n",
        "            printf(\"%d \", num);\n",
        "            count++;\n",
        "        }\n",
        "        num++;\n",
        "    }\n",
        "\n",
        "    return 0;\n",
        "}\n"
      ],
      "metadata": {
        "id": "5kMja8qyzueT"
      },
      "execution_count": null,
      "outputs": []
    },
    {
      "cell_type": "markdown",
      "source": [
        "Write a program to read a square matrix and\n",
        "transpose it without using temporary matrix. (Use\n",
        "functions - main contains only readmatrix(), transpose(),\n",
        "printmatrix())"
      ],
      "metadata": {
        "id": "i7lW0UwGvV2e"
      }
    },
    {
      "cell_type": "code",
      "execution_count": null,
      "metadata": {
        "id": "cpKTHw4mvHcM"
      },
      "outputs": [],
      "source": [
        "#include <stdio.h>\n",
        "\n",
        "#define N 4 // Assuming a 4x4 matrix, adjust the size as needed.\n",
        "\n",
        "void readmatrix(int matrix[N][N]) {\n",
        "    for (int i = 0; i < N; i++) {\n",
        "        for (int j = 0; j < N; j++) {\n",
        "            scanf(\"%d\", &matrix[i][j]);\n",
        "        }\n",
        "    }\n",
        "}\n",
        "\n",
        "void transpose(int matrix[N][N]) {\n",
        "    for (int i = 0; i < N; i++) {\n",
        "        for (int j = i + 1; j < N; j++) {\n",
        "            int temp = matrix[i][j];\n",
        "            matrix[i][j] = matrix[j][i];\n",
        "            matrix[j][i] = temp;\n",
        "        }\n",
        "    }\n",
        "}\n",
        "\n",
        "void printmatrix(int matrix[N][N]) {\n",
        "    for (int i = 0; i < N; i++) {\n",
        "        for (int j = 0; j < N; j++) {\n",
        "            printf(\"%d \", matrix[i][j]);\n",
        "        }\n",
        "        printf(\"\\n\");\n",
        "    }\n",
        "}\n",
        "\n",
        "int main() {\n",
        "    int matrix[N][N];\n",
        "    readmatrix(matrix);\n",
        "    transpose(matrix);\n",
        "    printmatrix(matrix);\n",
        "    return 0;\n",
        "}\n"
      ]
    },
    {
      "cell_type": "markdown",
      "source": [
        "Write a program to read a sentence from keyboard\n",
        "and find how many words, and how many vowels are\n",
        "there in the sentence"
      ],
      "metadata": {
        "id": "B4IZ4t6ixtFn"
      }
    },
    {
      "cell_type": "code",
      "source": [
        "#include <stdio.h>\n",
        "#include <string.h>\n",
        "#include <ctype.h>\n",
        "\n",
        "int main() {\n",
        "  char sentence[1000];\n",
        "  int i, words = 0, vowels = 0;\n",
        "  printf(\"Enter a sentence: \");\n",
        "  fgets(sentence, sizeof(sentence), stdin);\n",
        "  for(i=0; sentence[i]!='\\0'; ++i) {\n",
        "    sentence[i] = tolower(sentence[i]);\n",
        "    if(sentence[i] == 'a' || sentence[i] == 'e' || sentence[i] == 'i' ||\n",
        "       sentence[i] == 'o' || sentence[i] == 'u') {\n",
        "      ++vowels;\n",
        "    }\n",
        "    if(sentence[i] == ' ' && sentence[i+1] != ' ') {\n",
        "      ++words;\n",
        "    }\n",
        "  }\n",
        "  if(sentence[0] != ' ') {\n",
        "    ++words;\n",
        "  }\n",
        "  printf(\"Words: %d\\n\", words);\n",
        "  printf(\"Vowels: %d\", vowels);\n",
        "  return 0;\n",
        "}"
      ],
      "metadata": {
        "id": "qQXAbyfZxufQ"
      },
      "execution_count": null,
      "outputs": []
    },
    {
      "cell_type": "markdown",
      "source": [
        ":Write a program to read a sentence from keyboard and\n",
        "break them into words, write in an array and sort the words into\n",
        "dictionary order"
      ],
      "metadata": {
        "id": "gWOjCvJ0ygJx"
      }
    },
    {
      "cell_type": "code",
      "source": [
        "#include <stdio.h>\n",
        "#include <string.h>\n",
        "#include <stdlib.h>\n",
        "\n",
        "#define MAX_WORDS 100 // Maximum number of words\n",
        "#define WORD_LENGTH 50 // Maximum length of a word\n",
        "\n",
        "int compare(const void *a, const void *b) {\n",
        "    // The compare function for qsort\n",
        "    return strcmp(*(const char **)a, *(const char **)b);\n",
        "}\n",
        "\n",
        "int main() {\n",
        "    char sentence[1000]; // Buffer for the input sentence\n",
        "    char *words[MAX_WORDS]; // Array to hold pointers to the beginning of each word\n",
        "    int n = 0; // Number of words\n",
        "\n",
        "    printf(\"Enter a sentence: \");\n",
        "    fgets(sentence, sizeof(sentence), stdin); // Read the sentence from the keyboard\n",
        "\n",
        "    // strtok splits the sentence into words\n",
        "    char *token = strtok(sentence, \" \\n\");\n",
        "    while (token != NULL && n < MAX_WORDS) {\n",
        "        words[n] = (char *)malloc(strlen(token) + 1); // Allocate memory for the word\n",
        "        strcpy(words[n], token); // Copy the token to the words array\n",
        "        n++;\n",
        "        token = strtok(NULL, \" \\n\"); // Get the next word\n",
        "    }\n",
        "\n",
        "    // Sort the words array\n",
        "    qsort(words, n, sizeof(char *), compare);\n",
        "\n",
        "    // Print the sorted words\n",
        "    printf(\"Sorted words:\\n\");\n",
        "    for (int i = 0; i < n; i++) {\n",
        "        printf(\"%s\\n\", words[i]);\n",
        "        free(words[i]); // Free the allocated memory\n",
        "    }\n",
        "\n",
        "    return 0;\n",
        "}\n"
      ],
      "metadata": {
        "id": "WZ8YcNjtyfbd"
      },
      "execution_count": null,
      "outputs": []
    },
    {
      "cell_type": "markdown",
      "source": [],
      "metadata": {
        "id": "LsnAZFmEymGQ"
      }
    },
    {
      "cell_type": "markdown",
      "source": [
        ":Write a program to create a student record (sno, sname,\n",
        "marks,grade (to be generated by you)) and find the grade\n",
        "according to marks and insert into the record. Make a list of n\n",
        "students and sort them based on marks in descending order and\n",
        "print the result"
      ],
      "metadata": {
        "id": "XCROAcHezHkG"
      }
    },
    {
      "cell_type": "code",
      "source": [
        "#include <stdio.h>\n",
        "#include <stdlib.h>\n",
        "#include <string.h>\n",
        "\n",
        "// Define the structure for a student record\n",
        "typedef struct {\n",
        "    int sno;\n",
        "    char sname[50];\n",
        "    int marks;\n",
        "    char grade;\n",
        "} Student;\n",
        "\n",
        "// Function to assign grade based on marks\n",
        "char calculateGrade(int marks) {\n",
        "    if (marks >= 90) return 'A';\n",
        "    else if (marks >= 75) return 'B';\n",
        "    else if (marks >= 60) return 'C';\n",
        "    else if (marks >= 50) return 'D';\n",
        "    else return 'F';\n",
        "}\n",
        "\n",
        "// Comparison function for sorting students in descending order of marks\n",
        "int compareMarks(const void *a, const void *b) {\n",
        "    Student *studentA = (Student *)a;\n",
        "    Student *studentB = (Student *)b;\n",
        "    return studentB->marks - studentA->marks; // Descending order\n",
        "}\n",
        "\n",
        "int main() {\n",
        "    int n;\n",
        "    printf(\"Enter the number of students: \");\n",
        "    scanf(\"%d\", &n);\n",
        "    Student students[n];\n",
        "\n",
        "    // Input student details\n",
        "    for (int i = 0; i < n; i++) {\n",
        "        printf(\"Enter details for student %d (sno, name, marks): \", i+1);\n",
        "        scanf(\"%d %49s %d\", &students[i].sno, students[i].sname, &students[i].marks);\n",
        "        students[i].grade = calculateGrade(students[i].marks); // Assign grade\n",
        "    }\n",
        "\n",
        "    // Sort the students based on marks in descending order\n",
        "    qsort(students, n, sizeof(Student), compareMarks);\n",
        "\n",
        "    // Print the sorted student records\n",
        "    printf(\"\\nSorted student records by marks in descending order:\\n\");\n",
        "    for (int i = 0; i < n; i++) {\n",
        "        printf(\"Sno: %d, Name: %s, Marks: %d, Grade: %c\\n\",\n",
        "               students[i].sno, students[i].sname, students[i].marks, students[i].grade);\n",
        "    }\n",
        "\n",
        "    return 0;\n",
        "}\n"
      ],
      "metadata": {
        "id": "a5HmOQ-pzIgm"
      },
      "execution_count": null,
      "outputs": []
    }
  ]
}
