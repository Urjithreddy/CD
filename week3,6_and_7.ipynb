{
  "nbformat": 4,
  "nbformat_minor": 0,
  "metadata": {
    "colab": {
      "provenance": []
    },
    "kernelspec": {
      "name": "python3",
      "display_name": "Python 3"
    },
    "language_info": {
      "name": "python"
    }
  },
  "cells": [
    {
      "cell_type": "markdown",
      "source": [
        "Implement a transition diagram to recognize the first occurrence of a token which can be an identifier, constant, or keyword and return as token <token type, actual token>.  "
      ],
      "metadata": {
        "id": "WJaa6KcM3ik9"
      }
    },
    {
      "cell_type": "code",
      "execution_count": null,
      "metadata": {
        "id": "3YuWzu88z-9B"
      },
      "outputs": [],
      "source": [
        "#include <stdio.h>\n",
        "#include <ctype.h>\n",
        "\n",
        "int isId(char* t) {\n",
        "    return (isalpha(*t) || *t == '_') && !isalnum(t[strspn(t+1, \"_0-9a-zA-Z\")]);\n",
        "}\n",
        "\n",
        "int isNum(char* t) {\n",
        "    return isdigit(*t) && !isalpha(t[strspn(t, \"0-9\")]);\n",
        "}\n",
        "\n",
        "int isKey(char* t) {\n",
        "    static char* kw[] = {\"int\", \"float\", \"char\"};\n",
        "    for (int i = 0; i < 3; i++)\n",
        "        if (!strcmp(t, kw[i])) return 1;\n",
        "    return 0;\n",
        "}\n",
        "\n",
        "int main() {\n",
        "    char str[100], *token;\n",
        "    fgets(str, 100, stdin);\n",
        "    str[strcspn(str, \"\\n\")] = 0;\n",
        "\n",
        "    for (token = strtok(str, \"=+\"); token; token = strtok(NULL, \"=+\"))\n",
        "        printf(\"<%s, %s>\\n\", isId(token) ? \"id\" : isNum(token) ? \"const\" : isKey(token) ? \"keyword\" : \"unknown\", token);\n",
        "\n",
        "    return 0;\n",
        "}\n"
      ]
    },
    {
      "cell_type": "markdown",
      "source": [],
      "metadata": {
        "id": "utTgM3hu3ur7"
      }
    },
    {
      "cell_type": "markdown",
      "source": [
        "Write a program that reads single productions of the form “ A → α1, A →α2, A→ α3 ... “ and make them into a single production “A → α1 / α2 /α3 ...” and display"
      ],
      "metadata": {
        "id": "4-sTY44K4wUR"
      }
    },
    {
      "cell_type": "code",
      "source": [
        "#include <stdio.h>\n",
        "#include <stdlib.h>\n",
        "#include <string.h>\n",
        "\n",
        "#define MAX_RIGHT 100 // Max size for the right-hand side\n",
        "\n",
        "int main() {\n",
        "    char productions[26][MAX_RIGHT] = {0}; // Initialize all to zero\n",
        "    char input[100], left, *right;\n",
        "    int index;\n",
        "\n",
        "    printf(\"Enter productions (e.g., A->a). Enter 'end' to finish.\\n\");\n",
        "\n",
        "    while (1) {\n",
        "        if (scanf(\"%99s\", input) != 1 || strcmp(input, \"end\") == 0) break; // Read input\n",
        "\n",
        "        left = input[0];\n",
        "        right = strchr(input, '>') + 1;\n",
        "        index = left - 'A'; // Convert char to index\n",
        "\n",
        "        if (productions[index][0] != '\\0') {\n",
        "            strcat(productions[index], \" / \"); // Add delimiter if not the first production\n",
        "        }\n",
        "\n",
        "        strcat(productions[index], right); // Concatenate the new production\n",
        "    }\n",
        "\n",
        "    for (int i = 0; i < 26; i++) { // Print non-empty productions\n",
        "        if (productions[i][0] != '\\0') {\n",
        "            printf(\"%c -> %s\\n\", i + 'A', productions[i]);\n",
        "        }\n",
        "    }\n",
        "\n",
        "    return 0;\n",
        "}\n"
      ],
      "metadata": {
        "id": "YA3GLQHI4xEQ"
      },
      "execution_count": null,
      "outputs": []
    },
    {
      "cell_type": "markdown",
      "source": [],
      "metadata": {
        "id": "inrgVXXh42Un"
      }
    },
    {
      "cell_type": "markdown",
      "source": [
        "\n",
        "Code: 2Write a program that reads single productions of the form “ A → α1 , B →α2, B→ α3 ... “ and build CFG and display. (Identify Terminals, Non-terminals, productions, and start symbol)\n",
        "\n"
      ],
      "metadata": {
        "id": "b2Y8UD6y-j_s"
      }
    },
    {
      "cell_type": "code",
      "source": [
        "#include <stdio.h>\n",
        "#include <stdlib.h>\n",
        "#include <string.h>\n",
        "#include <ctype.h>\n",
        "\n",
        "#define MAX_PRODUCTIONS 100\n",
        "#define MAX_SYMBOLS 50\n",
        "\n",
        "int main() {\n",
        "    char productions[MAX_PRODUCTIONS][MAX_SYMBOLS];\n",
        "    char nonTerminals[MAX_SYMBOLS];\n",
        "    char terminals[MAX_SYMBOLS];\n",
        "    int prodCount = 0, nonTerminalCount = 0, terminalCount = 0;\n",
        "\n",
        "    printf(\"Enter productions (e.g., A->aB|b). Enter 'end' to finish.\\n\");\n",
        "\n",
        "    while (1) {\n",
        "        char input[MAX_SYMBOLS];\n",
        "        scanf(\"%99s\", input);\n",
        "        if (strcmp(input, \"end\") == 0) break;\n",
        "\n",
        "        char *right = strchr(input, '>') + 1;\n",
        "        char left = input[0];\n",
        "\n",
        "        nonTerminals[nonTerminalCount++] = left;\n",
        "        strcpy(productions[prodCount++], right);\n",
        "\n",
        "        for (int i = 0; right[i] != '\\0'; i++) {\n",
        "            if (!isupper(right[i]) && right[i] != '|' && right[i] != '-' && right[i] != '>') {\n",
        "                terminals[terminalCount++] = right[i];\n",
        "            }\n",
        "        }\n",
        "    }\n",
        "\n",
        "    printf(\"\\nNon-terminals: \");\n",
        "    for (int i = 0; i < nonTerminalCount; i++) {\n",
        "        printf(\"%c \", nonTerminals[i]);\n",
        "    }\n",
        "\n",
        "    printf(\"\\nTerminals: \");\n",
        "    for (int i = 0; i < terminalCount; i++) {\n",
        "        printf(\"%c \", terminals[i]);\n",
        "    }\n",
        "\n",
        "    printf(\"\\nProductions:\\n\");\n",
        "    for (int i = 0; i < prodCount; i++) {\n",
        "        printf(\"%c -> %s\\n\", nonTerminals[i], productions[i]);\n",
        "    }\n",
        "\n",
        "    printf(\"Start Symbol: %c\\n\", nonTerminals[0]);\n",
        "\n",
        "    return 0;\n",
        "}\n"
      ],
      "metadata": {
        "id": "sjtNmeom-k3S"
      },
      "execution_count": null,
      "outputs": []
    },
    {
      "cell_type": "markdown",
      "source": [
        "WEEK – 7Write a program that takes grammar and checks for left recursion (may contain left recursion in more than one production) and, if found, eliminate it and display the resultant grammar."
      ],
      "metadata": {
        "id": "6slak4JU-vNO"
      }
    },
    {
      "cell_type": "code",
      "source": [
        "#include <stdio.h>\n",
        "#include <stdlib.h>\n",
        "#include <string.h>\n",
        "\n",
        "typedef struct Production {\n",
        "    char left;\n",
        "    char right[100];\n",
        "    struct Production *next;\n",
        "} Production;\n",
        "\n",
        "Production *createProduction(char left, char *right) {\n",
        "    Production *newProd = (Production *)malloc(sizeof(Production));\n",
        "    if (newProd == NULL) {\n",
        "        printf(\"Memory allocation failed\\n\");\n",
        "        exit(1);\n",
        "    }\n",
        "    newProd->left = left;\n",
        "    strcpy(newProd->right, right);\n",
        "    newProd->next = NULL;\n",
        "    return newProd;\n",
        "}\n",
        "\n",
        "void addProduction(Production **head, char left, char *right) {\n",
        "    Production *newProd = createProduction(left, right);\n",
        "    if (*head == NULL) {\n",
        "        *head = newProd;\n",
        "    } else {\n",
        "        newProd->next = *head;\n",
        "        *head = newProd;\n",
        "    }\n",
        "}\n",
        "\n",
        "void printProductions(Production *head) {\n",
        "    while (head != NULL) {\n",
        "        printf(\"%c -> %s\\n\", head->left, head->right);\n",
        "        head = head->next;\n",
        "    }\n",
        "}\n",
        "\n",
        "void eliminateLeftRecursion(Production **head) {\n",
        "    Production *current = *head;\n",
        "    while (current != NULL) {\n",
        "        char *right = current->right;\n",
        "        if (right[0] == current->left) {\n",
        "            char alpha[100] = \"\", beta[100] = \"\", newRight[100] = \"\";\n",
        "            char *token = strtok(right, \"|\");\n",
        "            while (token != NULL) {\n",
        "                if (token[0] == current->left) {\n",
        "                    snprintf(alpha, sizeof(alpha), \"%s%s|\", alpha, token + 1);\n",
        "                } else {\n",
        "                    snprintf(beta, sizeof(beta), \"%s%s%c'|\", beta, token, current->left);\n",
        "                }\n",
        "                token = strtok(NULL, \"|\");\n",
        "            }\n",
        "            alpha[strlen(alpha) - 1] = '\\0';\n",
        "            beta[strlen(beta) - 1] = '\\0';\n",
        "\n",
        "            snprintf(newRight, sizeof(newRight), \"%s\", beta);\n",
        "            strcpy(current->right, newRight);\n",
        "\n",
        "            char newLeft = current->left + 1;\n",
        "            addProduction(head, newLeft, alpha);\n",
        "        }\n",
        "        current = current->next;\n",
        "    }\n",
        "}\n",
        "\n",
        "int main() {\n",
        "    Production *head = NULL;\n",
        "    printf(\"Enter productions (e.g., A->aB | b). Enter 'end' to finish.\\n\");\n",
        "    char input[200];\n",
        "\n",
        "    while (1) {\n",
        "        fgets(input, sizeof(input), stdin);\n",
        "        if (input[strlen(input) - 1] == '\\n') {\n",
        "            input[strlen(input) - 1] = '\\0';\n",
        "        }\n",
        "        if (strcmp(input, \"end\") == 0) break;\n",
        "\n",
        "        char left = input[0];\n",
        "        char *right = strchr(input, '>') + 1;\n",
        "\n",
        "        addProduction(&head, left, right);\n",
        "    }\n",
        "\n",
        "    printf(\"\\nOriginal Productions:\\n\");\n",
        "    printProductions(head);\n",
        "\n",
        "    eliminateLeftRecursion(&head);\n",
        "\n",
        "    printf(\"\\nProductions after eliminating left recursion:\\n\");\n",
        "    printProductions(head);\n",
        "\n",
        "    return 0;\n",
        "}\n"
      ],
      "metadata": {
        "id": "WjG3VFJj-zo-"
      },
      "execution_count": null,
      "outputs": []
    }
  ]
}